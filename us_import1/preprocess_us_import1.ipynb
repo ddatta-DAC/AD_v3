{
 "cells": [
  {
   "cell_type": "code",
   "execution_count": 1,
   "metadata": {},
   "outputs": [
    {
     "name": "stdout",
     "output_type": "stream",
     "text": [
      "INFO: Pandarallel will run on 8 workers.\n",
      "INFO: Pandarallel will use Memory file system to transfer data between the main process and workers.\n"
     ]
    }
   ],
   "source": [
    "import pandas as pd\n",
    "import os\n",
    "import numpy as np\n",
    "import yaml\n",
    "import sys\n",
    "import pathlib\n",
    "from pathlib import Path\n",
    "from pandarallel import pandarallel\n",
    "pandarallel.initialize()"
   ]
  },
  {
   "cell_type": "code",
   "execution_count": 2,
   "metadata": {},
   "outputs": [
    {
     "name": "stdout",
     "output_type": "stream",
     "text": [
      " >>  Index(['PanjivaRecordID', 'Carrier', 'ConsigneePanjivaID', 'HSCode',\n",
      "       'PortOfLading', 'PortOfUnlading', 'ShipmentDestination',\n",
      "       'ShipmentOrigin', 'ShipperPanjivaID'],\n",
      "      dtype='object')\n"
     ]
    }
   ],
   "source": [
    "DIR = 'us_import1'\n",
    "fpath = os.path.join('./../generated_data_v1/' + DIR + '/serialized_train_data.csv')\n",
    "OP_DIR = os.path.join('./processed')\n",
    "\n",
    "_path = Path(str(OP_DIR))\n",
    "OP_DIR = os.path.join('processed')\n",
    "_path = Path(str(OP_DIR))\n",
    "_path.mkdir( parents=True, exist_ok=True)\n",
    "df = pd.read_csv(fpath,index_col=None)\n",
    "print(' >> ', df.columns)"
   ]
  },
  {
   "cell_type": "code",
   "execution_count": 3,
   "metadata": {},
   "outputs": [],
   "source": [
    "entity_types = ['ConsigneePanjivaID','HSCode','PortOfLading','PortOfUnlading','ShipmentDestination','ShipmentOrigin','ShipperPanjivaID']\n",
    "df = df[entity_types]"
   ]
  },
  {
   "cell_type": "code",
   "execution_count": 4,
   "metadata": {},
   "outputs": [],
   "source": [
    "domain_dims = {}\n",
    "for e in entity_types:\n",
    "    domain_dims[e] = len(set(df[e]))"
   ]
  },
  {
   "cell_type": "code",
   "execution_count": 5,
   "metadata": {},
   "outputs": [
    {
     "data": {
      "text/plain": [
       "{'ConsigneePanjivaID': 8665,\n",
       " 'HSCode': 10,\n",
       " 'PortOfLading': 308,\n",
       " 'PortOfUnlading': 78,\n",
       " 'ShipmentDestination': 149,\n",
       " 'ShipmentOrigin': 141,\n",
       " 'ShipperPanjivaID': 9949}"
      ]
     },
     "execution_count": 5,
     "metadata": {},
     "output_type": "execute_result"
    }
   ],
   "source": [
    "domain_dims"
   ]
  },
  {
   "cell_type": "code",
   "execution_count": 6,
   "metadata": {},
   "outputs": [],
   "source": [
    "# Convert to contiguos ids\n",
    "prev_count = 0\n",
    "res = []\n",
    "for dn, ds in domain_dims.items():\n",
    "    for eid in set(df[dn]):\n",
    "        r = [dn, eid, eid + prev_count]\n",
    "        res.append(r)\n",
    "    prev_count += ds\n",
    "\n",
    "serial_mapping_df = pd.DataFrame(\n",
    "    data=res,\n",
    "    columns=['Domain', 'Entity_ID', 'Serial_ID']\n",
    ")"
   ]
  },
  {
   "cell_type": "code",
   "execution_count": 7,
   "metadata": {},
   "outputs": [
    {
     "data": {
      "text/html": [
       "<div>\n",
       "<style scoped>\n",
       "    .dataframe tbody tr th:only-of-type {\n",
       "        vertical-align: middle;\n",
       "    }\n",
       "\n",
       "    .dataframe tbody tr th {\n",
       "        vertical-align: top;\n",
       "    }\n",
       "\n",
       "    .dataframe thead th {\n",
       "        text-align: right;\n",
       "    }\n",
       "</style>\n",
       "<table border=\"1\" class=\"dataframe\">\n",
       "  <thead>\n",
       "    <tr style=\"text-align: right;\">\n",
       "      <th></th>\n",
       "      <th>Domain</th>\n",
       "      <th>Entity_ID</th>\n",
       "      <th>Serial_ID</th>\n",
       "    </tr>\n",
       "  </thead>\n",
       "  <tbody>\n",
       "    <tr>\n",
       "      <th>8665</th>\n",
       "      <td>HSCode</td>\n",
       "      <td>9415</td>\n",
       "      <td>18080</td>\n",
       "    </tr>\n",
       "    <tr>\n",
       "      <th>8666</th>\n",
       "      <td>HSCode</td>\n",
       "      <td>9416</td>\n",
       "      <td>18081</td>\n",
       "    </tr>\n",
       "    <tr>\n",
       "      <th>8667</th>\n",
       "      <td>HSCode</td>\n",
       "      <td>9417</td>\n",
       "      <td>18082</td>\n",
       "    </tr>\n",
       "    <tr>\n",
       "      <th>8668</th>\n",
       "      <td>HSCode</td>\n",
       "      <td>9418</td>\n",
       "      <td>18083</td>\n",
       "    </tr>\n",
       "    <tr>\n",
       "      <th>8669</th>\n",
       "      <td>HSCode</td>\n",
       "      <td>9419</td>\n",
       "      <td>18084</td>\n",
       "    </tr>\n",
       "    <tr>\n",
       "      <th>8670</th>\n",
       "      <td>HSCode</td>\n",
       "      <td>9420</td>\n",
       "      <td>18085</td>\n",
       "    </tr>\n",
       "    <tr>\n",
       "      <th>8671</th>\n",
       "      <td>HSCode</td>\n",
       "      <td>9421</td>\n",
       "      <td>18086</td>\n",
       "    </tr>\n",
       "    <tr>\n",
       "      <th>8672</th>\n",
       "      <td>HSCode</td>\n",
       "      <td>9422</td>\n",
       "      <td>18087</td>\n",
       "    </tr>\n",
       "    <tr>\n",
       "      <th>8673</th>\n",
       "      <td>HSCode</td>\n",
       "      <td>9423</td>\n",
       "      <td>18088</td>\n",
       "    </tr>\n",
       "    <tr>\n",
       "      <th>8674</th>\n",
       "      <td>HSCode</td>\n",
       "      <td>9424</td>\n",
       "      <td>18089</td>\n",
       "    </tr>\n",
       "  </tbody>\n",
       "</table>\n",
       "</div>"
      ],
      "text/plain": [
       "      Domain  Entity_ID  Serial_ID\n",
       "8665  HSCode       9415      18080\n",
       "8666  HSCode       9416      18081\n",
       "8667  HSCode       9417      18082\n",
       "8668  HSCode       9418      18083\n",
       "8669  HSCode       9419      18084\n",
       "8670  HSCode       9420      18085\n",
       "8671  HSCode       9421      18086\n",
       "8672  HSCode       9422      18087\n",
       "8673  HSCode       9423      18088\n",
       "8674  HSCode       9424      18089"
      ]
     },
     "execution_count": 7,
     "metadata": {},
     "output_type": "execute_result"
    }
   ],
   "source": [
    "serial_mapping_df.loc[(serial_mapping_df['Domain'] == 'HSCode')]"
   ]
  },
  {
   "cell_type": "code",
   "execution_count": 8,
   "metadata": {},
   "outputs": [],
   "source": [
    "def convert_to_SerialID(_row, cols):\n",
    "    global serial_mapping_df\n",
    "    row = _row.copy()\n",
    "    for c in cols:\n",
    "        val = row[c]\n",
    "        res = list(\n",
    "            serial_mapping_df.loc[\n",
    "                (serial_mapping_df['Domain'] == c) &\n",
    "                (serial_mapping_df['Entity_ID'] == val)]\n",
    "            ['Serial_ID']\n",
    "        )\n",
    "#         print('res > ',c, val, res)\n",
    "        row[c] = res[0]\n",
    "    return row"
   ]
  },
  {
   "cell_type": "code",
   "execution_count": 9,
   "metadata": {},
   "outputs": [
    {
     "name": "stdout",
     "output_type": "stream",
     "text": [
      "Columns  ['ConsigneePanjivaID', 'HSCode', 'PortOfLading', 'PortOfUnlading', 'ShipmentDestination', 'ShipmentOrigin', 'ShipperPanjivaID']\n"
     ]
    }
   ],
   "source": [
    "cols = list(domain_dims.keys())\n",
    "print('Columns ',entity_types)"
   ]
  },
  {
   "cell_type": "code",
   "execution_count": 10,
   "metadata": {},
   "outputs": [],
   "source": [
    "df = df.parallel_apply(\n",
    "    convert_to_SerialID,\n",
    "    axis=1,\n",
    "    args= (cols,)\n",
    ")"
   ]
  },
  {
   "cell_type": "code",
   "execution_count": 11,
   "metadata": {},
   "outputs": [
    {
     "ename": "NameError",
     "evalue": "name 'enity_types' is not defined",
     "output_type": "error",
     "traceback": [
      "\u001b[0;31m---------------------------------------------------------------------------\u001b[0m",
      "\u001b[0;31mNameError\u001b[0m                                 Traceback (most recent call last)",
      "\u001b[0;32m<ipython-input-11-768db5cc4109>\u001b[0m in \u001b[0;36m<module>\u001b[0;34m\u001b[0m\n\u001b[1;32m      3\u001b[0m \u001b[0mentity_dict\u001b[0m \u001b[0;34m=\u001b[0m \u001b[0;34m{\u001b[0m\u001b[0;34m}\u001b[0m\u001b[0;34m\u001b[0m\u001b[0;34m\u001b[0m\u001b[0m\n\u001b[1;32m      4\u001b[0m \u001b[0;34m\u001b[0m\u001b[0m\n\u001b[0;32m----> 5\u001b[0;31m \u001b[0;32mfor\u001b[0m \u001b[0me\u001b[0m \u001b[0;32min\u001b[0m \u001b[0menity_types\u001b[0m\u001b[0;34m:\u001b[0m\u001b[0;34m\u001b[0m\u001b[0;34m\u001b[0m\u001b[0m\n\u001b[0m\u001b[1;32m      6\u001b[0m     \u001b[0mprint\u001b[0m\u001b[0;34m(\u001b[0m\u001b[0me\u001b[0m \u001b[0;34m,\u001b[0m \u001b[0;34m'Count : '\u001b[0m\u001b[0;34m,\u001b[0m \u001b[0mlen\u001b[0m\u001b[0;34m(\u001b[0m\u001b[0mset\u001b[0m\u001b[0;34m(\u001b[0m\u001b[0mdf\u001b[0m\u001b[0;34m[\u001b[0m\u001b[0me\u001b[0m\u001b[0;34m]\u001b[0m\u001b[0;34m)\u001b[0m\u001b[0;34m)\u001b[0m\u001b[0;34m)\u001b[0m\u001b[0;34m\u001b[0m\u001b[0;34m\u001b[0m\u001b[0m\n\u001b[1;32m      7\u001b[0m     \u001b[0mitems\u001b[0m \u001b[0;34m=\u001b[0m \u001b[0mlist\u001b[0m\u001b[0;34m(\u001b[0m\u001b[0msorted\u001b[0m\u001b[0;34m(\u001b[0m\u001b[0mset\u001b[0m\u001b[0;34m(\u001b[0m\u001b[0mdf\u001b[0m\u001b[0;34m[\u001b[0m\u001b[0me\u001b[0m\u001b[0;34m]\u001b[0m\u001b[0;34m)\u001b[0m\u001b[0;34m)\u001b[0m\u001b[0;34m)\u001b[0m\u001b[0;34m\u001b[0m\u001b[0;34m\u001b[0m\u001b[0m\n",
      "\u001b[0;31mNameError\u001b[0m: name 'enity_types' is not defined"
     ]
    }
   ],
   "source": [
    "# create graph\n",
    "\n",
    "entity_dict = {}\n",
    "\n",
    "for e in enity_types:\n",
    "    print(e , 'Count : ', len(set(df[e])))\n",
    "    items = list(sorted(set(df[e])))\n",
    "    n_df = pd.DataFrame({e: items})\n",
    "    fname = 'nodes_{}.csv'.format(e)\n",
    "    fpath = os.path.join(OP_DIR, fname)\n",
    "    print(' Writing to file {}'.format(fpath))\n",
    "    n_df.to_csv(fpath,index=False)\n",
    "# ------------\n",
    "# Edges\n",
    "# ------------\n",
    "\n",
    "edge_types = [\n",
    "    ['ShipperPanjivaID','HSCode'],\n",
    "    ['ConsigneePanjivaID','HSCode'],\n",
    "    ['ShipperPanjivaID','ConsigneePanjivaID'],\n",
    "    ['PortOfLading','ShipperPanjivaID'],\n",
    "    ['PortOfLading','PortOfUnlading'],\n",
    "    ['PortOfUnlading','ConsigneePanjivaID'],\n",
    "    ['ShipmentDestination','PortOfUnlading'],\n",
    "    ['PortOfLading','ShipmentOrigin'],\n",
    "    ['ShipmentDestination', 'ConsigneePanjivaID'],\n",
    "    ['ShipperPanjivaID','ShipmentOrigin'],\n",
    "    ['PortOfLading','ShipmentOrigin']\n",
    "]\n",
    "num_edges = 0\n",
    "\n",
    "for edge_type in edge_types:\n",
    "    e_df = df[edge_type]\n",
    "    e_df = e_df.groupby(edge_type).size().reset_index(name=\"count\")\n",
    "    num_edges += len(e_df)\n",
    "    print('E type ', edge_type, ' count : ', len(e_df))\n",
    "    name = '_'.join(sorted(edge_type))\n",
    "    cols= list(e_df.columns)\n",
    "    col1 = cols[0]\n",
    "    col2 = cols[1]\n",
    "    e_df = e_df.rename(columns= { col1:'source', col2:'target' })\n",
    "    # Save file \n",
    "    fname = name + '_edges.csv'\n",
    "    fpath = os.path.join(OP_DIR, fname)\n",
    "    print('.Writing to {}'.format(fpath))\n",
    "    e_df.to_csv(fpath,index=False)\n",
    "\n",
    "# =======================\n",
    "# Create data for Hin2vec \n",
    "# =======================\n",
    "\n",
    "all_edges_df = None\n",
    "e_type_idx = 0\n",
    "for edge_type in edge_types:\n",
    "    e_df = df[edge_type]\n",
    "    e_df = e_df.groupby(edge_type).size().reset_index(name=\"count\")\n",
    "    num_edges += len(e_df)\n",
    "    print('E type ', edge_type, ' count : ', len(e_df))\n",
    "    name = '_'.join(sorted(edge_type))\n",
    "    cols= list(e_df.columns)\n",
    "    col1 = cols[0]\n",
    "    col2 = cols[1]\n",
    "    e_df = e_df.rename(columns= { col1:'source', col2:'target' })\n",
    "    try:\n",
    "        del e_df['count']\n",
    "    except:\n",
    "        pass\n",
    "    e_df['type'] = e_type_idx\n",
    "    e_type_idx += 1\n",
    "    \n",
    "    if all_edges_df is None:\n",
    "        all_edges_df = e_df\n",
    "    else:\n",
    "        all_edges_df = all_edges_df.append(e_df,ignore_index=True)\n",
    "    \n",
    "fname = name + 'hin2vec_input.txt'\n",
    "fpath = os.path.join(OP_DIR, fname)\n",
    "print('.Writing to {}'.format(fpath))\n",
    "all_edges_df.to_csv(fpath, index = False, header = False, sep = ',')"
   ]
  },
  {
   "cell_type": "code",
   "execution_count": null,
   "metadata": {},
   "outputs": [],
   "source": [
    "\n",
    "import matplotlib.pyplot as plt\n",
    "df1 = df[['ConsigneePanjivaID','HSCode']].drop_duplicates().groupby(by=['ConsigneePanjivaID']).size().reset_index(name=\"count\")\n",
    "plt.figure()\n",
    "plt.title('How many HSCodes does each company (Consignee) trade in ?')\n",
    "df1['count'].plot.hist(color='m')\n",
    "try:\n",
    "    plt.show()\n",
    "except:\n",
    "    pass\n",
    "\n",
    "import matplotlib.pyplot as plt\n",
    "df1 = df[['ShipperPanjivaID','HSCode']].drop_duplicates().groupby(by=['ShipperPanjivaID']).size().reset_index(name=\"count\")\n",
    "plt.figure()\n",
    "plt.title('How many HSCodes does each company (Shipper) trade in ?')\n",
    "df1['count'].plot.hist(color='m')\n",
    "try:\n",
    "    plt.show()\n",
    "except:\n",
    "    pass\n",
    "\n"
   ]
  },
  {
   "cell_type": "code",
   "execution_count": null,
   "metadata": {},
   "outputs": [],
   "source": []
  },
  {
   "cell_type": "code",
   "execution_count": null,
   "metadata": {},
   "outputs": [],
   "source": []
  }
 ],
 "metadata": {
  "kernelspec": {
   "display_name": "Python 3",
   "language": "python",
   "name": "python3"
  },
  "language_info": {
   "codemirror_mode": {
    "name": "ipython",
    "version": 3
   },
   "file_extension": ".py",
   "mimetype": "text/x-python",
   "name": "python",
   "nbconvert_exporter": "python",
   "pygments_lexer": "ipython3",
   "version": "3.7.6"
  }
 },
 "nbformat": 4,
 "nbformat_minor": 4
}
